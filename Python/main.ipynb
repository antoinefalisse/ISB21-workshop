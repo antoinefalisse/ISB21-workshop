{
 "cells": [
  {
   "cell_type": "markdown",
   "metadata": {
    "id": "X38L6tanrnrB"
   },
   "source": [
    "# ISB-workshop 2021\n",
    "\n",
    "This script formulates and solves a trajectory optimization problem underlying a predictive simulation of walking with a planar five-link biped model. A direct collocation method with a backward Euler integration scheme is employed to formulate a nonlinear program (NLP) from the continuous optimal control problem.\n",
    "\n",
    "The formulation is deeply inspired from the five-link biped example described in: \"Kelly, An Introduction to Trajectory Optimization: How to do your own direct collocation (2017), SIAM REVIEW. DOI. 10.1137/16M1062569\".\n",
    "\n",
    "Author: Tom Van Wouwe\n",
    "\n",
    "Contributors: Antoine Falisse and Gil Serrancoli\n"
   ]
  },
  {
   "cell_type": "markdown",
   "metadata": {
    "id": "VNlQfYZ6Bgm7"
   },
   "source": [
    "### Import modules."
   ]
  },
  {
   "cell_type": "code",
   "execution_count": null,
   "metadata": {},
   "outputs": [],
   "source": [
    "import casadi as ca\n",
    "\n",
    "import numpy as np\n",
    "import matplotlib.pyplot as plt\n",
    "import pygsheets\n",
    "\n",
    "from getModelConstraintErrors import getModelConstraintErrors\n",
    "from getHeelStrikeError import getHeelStrikeError\n",
    "from eulerIntegrator import eulerIntegrator\n",
    "from getJointKinematics import getJointPositions\n",
    "from getJointKinematics import getJointVelocities\n",
    "from getJointKinematics import getRelativeJointAngles\n",
    "from getJointKinematics import getRelativeJointAngularVelocities\n",
    "from generateAnimation import generateAnimation"
   ]
  },
  {
   "cell_type": "markdown",
   "metadata": {},
   "source": [
    "### Plot settings.\n",
    "You might no want to generate the animation and figures every time you run the code. Feel free to adjust the variables below accordingly."
   ]
  },
  {
   "cell_type": "code",
   "execution_count": null,
   "metadata": {},
   "outputs": [],
   "source": [
    "generate_animation = False # This does not work by default in jupyter.\n",
    "generate_plots = True"
   ]
  },
  {
   "cell_type": "markdown",
   "metadata": {},
   "source": [
    "### Selection of walking pattern.\n",
    "Options:\n",
    "- nominal\n",
    "- no_stance_ankle_torque\n",
    "- no_stance_knee_torque\n",
    "- no_hip_torques\n",
    "- only_stance_ankle_torque\n",
    "- only_knee_torques\n",
    "- only_hip_torques\n",
    "- crouch_gait\n",
    "- swing_foot_circles_around_stance_foot\n",
    "- on_the_moon\n",
    "- on_mars"
   ]
  },
  {
   "cell_type": "code",
   "execution_count": null,
   "metadata": {},
   "outputs": [],
   "source": [
    "selected_gait = 'nominal'"
   ]
  },
  {
   "cell_type": "markdown",
   "metadata": {},
   "source": [
    "### Selection of weight of the cost function terms.\n",
    "The cost function minimizes the sum of the squared joint torques. The contribution of each joint is weighted with a separate weight factor as follows: \n",
    "\n",
    "J = w1 * T1^2 + w2 * T2^2 + w3 * T3^2 + w4 * T4^2 + w5 * T5^2.\n",
    "\n",
    "We expose those weight factors here so that you can easily change them, and see what is the impact on the predicted walking pattern."
   ]
  },
  {
   "cell_type": "code",
   "execution_count": null,
   "metadata": {},
   "outputs": [],
   "source": [
    "w1 = 1 # stance ankle\n",
    "w2 = 1 # stance knee\n",
    "w3 = 1 # stance hip\n",
    "w4 = 1 # swing hip\n",
    "w5 = 1 # swing knee"
   ]
  },
  {
   "cell_type": "markdown",
   "metadata": {},
   "source": [
    "### Challenge\n",
    "If you would like to participate in our challenge, set the variable challenge below to true. You will get prompted to enter your name, and your name, score, and weight combination will be saved in a google spreadsheet so that we can identify the best combination and winner. More info during the presentation."
   ]
  },
  {
   "cell_type": "code",
   "execution_count": null,
   "metadata": {},
   "outputs": [],
   "source": [
    "challenge = False"
   ]
  },
  {
   "cell_type": "markdown",
   "metadata": {},
   "source": [
    "### Model: physical parameters.\n",
    "The model consists of a torso connected to two legs, each of which has an upper and a lower link. The stance leg is supporting the weight of the model, while the swing leg is free to move above the ground. Each link is modeled as a rigid body, with both mass and rotational inertia. Links are connected to each other with ideal torque motors across frictionless revolute joints. In contrast with the model from the paper, the stance ankle is not passive (i.e., the torque is not null).\n",
    "\n",
    "Physical parameters for the five-link biped model.\n",
    "\n",
    "Table 4 from appendix E.2, p897 of Kelly 2017.\n",
    "\n",
    "| Symbol | Value | Name |\n",
    "| --- | --- | --- |\n",
    "| m1, m5 | 3.2 kg | mass of tibia (lower leg) |\n",
    "| m2, m4 | 6.8 kg | mass of femur (lower leg) |\n",
    "| m3     | 20 kg  | mass of torso |\n",
    "| --- | --- | --- |\n",
    "| I1, I5 | 0.93 kg-m2 | rotational inertia of tibia about center of mass |\n",
    "| I2, I4 | 1.08 kg-m2 | rotational inertia of femur about center of mass |\n",
    "| I3     | 2.22 kg-m2  | rotational inertia of torso about center of mass |\n",
    "| --- | --- | --- |\n",
    "| l1, l5 | 0.4 m | length of tibia |\n",
    "| l2, l4 | 0.4 m | length of femur |\n",
    "| l3     | 0.625 m  | length of torso |\n",
    "| --- | --- | --- |\n",
    "| d1, d5 | 0.128 m | distance from tibia center of mass to knee |\n",
    "| d2, d4 | 0.163 m  | distance from femur center of mass to hip |\n",
    "| d3     | 0.2 m  | distance from torso center of mass to hip |"
   ]
  },
  {
   "cell_type": "code",
   "execution_count": null,
   "metadata": {},
   "outputs": [],
   "source": [
    "# Mass of the segments.\n",
    "m1 = 3.2\n",
    "m2 = 6.8\n",
    "m3 = 20\n",
    "m4 = 6.8\n",
    "m5 = 3.2\n",
    "# Rotational inertia of the segments.\n",
    "I1 = 0.93\n",
    "I2 = 1.08\n",
    "I3 = 2.22\n",
    "I4 = 1.08\n",
    "I5 = 0.93\n",
    "# Length of the segments.\n",
    "l1 = 0.4\n",
    "l2 = 0.4\n",
    "l3 = 0.625\n",
    "l4 = 0.4\n",
    "l5 = 0.4\n",
    "# Distance from segment center of mass to parent joint.\n",
    "d1 = 0.128\n",
    "d2 = 0.163 \n",
    "d3 = 0.2\n",
    "d4 = 0.163\n",
    "d5 = 0.128\n",
    "# Gravity.\n",
    "if selected_gait == 'on_the_moon':\n",
    "    g = 1.62\n",
    "if selected_gait == 'on_mars':\n",
    "    g = 3.72\n",
    "else: # on_earth\n",
    "    g = 9.81"
   ]
  },
  {
   "cell_type": "markdown",
   "metadata": {},
   "source": [
    "### Model: dynamics.\n",
    "For the sake of simplicty, we generated the equations of motion of the model for you (see how we proceeded in generateSymbolicFunctions.m). For the simulation to be dynamically consistent, we want those equations of motion to be enforced. In pratice, we do that by having path constraints in the problem formulation.\n",
    "\n",
    "Here, we create a CasADi function that returns the 'model' constraint errors based on the model states (q, dq) and controls (ddq, T). This function is initialized based on the physical parameters of the model, such that if you change those parameters, the equations of motion get updated. During the actual optimization, we will impose the contraint errors to be null. Note that you can change physical parameters of the model (e.g., mass or length), but not for instance add a segment. This would make the equations of motion we generated invalid.\n",
    "\n",
    "f_getModelConstraintErrors:\n",
    "- Inputs:\n",
    "   - states: segment angles q (5x1)\n",
    "   - states: segment angular velocities dq (5x1)\n",
    "   - controls: segment angular accelerations ddq (5x1)\n",
    "   - controls: joint torques T (5x1)\n",
    "- Outputs:\n",
    "   - model contraint errors (5x1)"
   ]
  },
  {
   "cell_type": "code",
   "execution_count": null,
   "metadata": {},
   "outputs": [],
   "source": [
    "f_getModelConstraintErrors = getModelConstraintErrors(\n",
    "    m1, m2, m3, m4, m5,\n",
    "    I1, I2, I3, I4, I5,\n",
    "    d1, d2, d3, d4, d5,\n",
    "    l1, l2, l4, l5,\n",
    "    g)"
   ]
  },
  {
   "cell_type": "markdown",
   "metadata": {},
   "source": [
    "### Trajectory optimization problem formulation.\n",
    "Stride time and length, and mesh size.\n",
    "Those are parameters you can play with. If you use a lower mesh size, this should increase the accuracy of your simulation, but likely at the cost of higher computational time. In practice, if your solution changes when lowering the mesh size, it suggests that your current mesh size is not low enough. It is advised to do such type of convergence analysis to make sure you don't over-interpret the results."
   ]
  },
  {
   "cell_type": "code",
   "execution_count": null,
   "metadata": {},
   "outputs": [],
   "source": [
    "# Time horizon, mesh size, and desired stride length.\n",
    "strideTime = 0.8                        # Stride time (s)\n",
    "strideLength = 0.5                      # Stride length (m)\n",
    "dt = 0.01                               # Mesh size\n",
    "\n",
    "N = int(strideTime/dt)                  # Number of mesh intervals\n",
    "time = np.linspace(0., strideTime, N+1) # Discretized time vector"
   ]
  },
  {
   "cell_type": "markdown",
   "metadata": {},
   "source": [
    "### Opti Stack\n",
    "The NLP is formulated using Opti Stack, which is a collection of CasADi helper classes that provides a close correspondence between mathematical NLP notation and computer code. More info here: https://web.casadi.org/docs/#document-opti"
   ]
  },
  {
   "cell_type": "code",
   "execution_count": null,
   "metadata": {},
   "outputs": [],
   "source": [
    "# Create opti instance.\n",
    "opti = ca.Opti()"
   ]
  },
  {
   "cell_type": "markdown",
   "metadata": {},
   "source": [
    "### Create design variables.\n",
    "\n",
    "Backward Euler scheme:\n",
    "x(t+1) = x(t) + u(t+1)dt\n",
    "\n",
    "We define the states at N+1 mesh points (starting at k=1).\n",
    "\n",
    "We define the controls at N mesh points (starting at k=2)\n",
    "\n",
    "k=1   k=2   k=3   k=N   k=N+1\n",
    "\n",
    "|-----|-----|-----|...|-----|-----|\n",
    "\n",
    "The dynamic contraints and equations of motion are NOT enforced in k=0."
   ]
  },
  {
   "cell_type": "code",
   "execution_count": null,
   "metadata": {},
   "outputs": [],
   "source": [
    "# States.\n",
    "# Segment angles.\n",
    "q1 = opti.variable(1,N+1)\n",
    "q2 = opti.variable(1,N+1) \n",
    "q3 = opti.variable(1,N+1)\n",
    "q4 = opti.variable(1,N+1)  \n",
    "q5 = opti.variable(1,N+1)\n",
    "# Segment angular velocities.\n",
    "dq1 = opti.variable(1,N+1)\n",
    "dq2 = opti.variable(1,N+1)  \n",
    "dq3 = opti.variable(1,N+1)\n",
    "dq4 = opti.variable(1,N+1)  \n",
    "dq5 = opti.variable(1,N+1)\n",
    "# Controls.\n",
    "# Segment angular accelerations.\n",
    "ddq1 = opti.variable(1,N)\n",
    "ddq2 = opti.variable(1,N)   \n",
    "ddq3 = opti.variable(1,N)\n",
    "ddq4 = opti.variable(1,N)\n",
    "ddq5 = opti.variable(1,N)\n",
    "# Joint torques.\n",
    "T1 = opti.variable(1,N)\n",
    "T2 = opti.variable(1,N)  \n",
    "T3 = opti.variable(1,N)\n",
    "T4 = opti.variable(1,N)   \n",
    "T5 = opti.variable(1,N)"
   ]
  },
  {
   "cell_type": "markdown",
   "metadata": {},
   "source": [
    "### Bounds"
   ]
  },
  {
   "cell_type": "code",
   "execution_count": null,
   "metadata": {},
   "outputs": [],
   "source": [
    "# Set bounds on segment angles (if not otherwise specified, design\n",
    "# variables will be bounded between +/- Inf).\n",
    "opti.subject_to(opti.bounded(-np.pi/2, q1, np.pi/2))\n",
    "opti.subject_to(opti.bounded(-np.pi/2, q2, np.pi/2))\n",
    "opti.subject_to(opti.bounded(-np.pi/3, q3, np.pi/3))\n",
    "opti.subject_to(opti.bounded(-np.pi/2, q4, np.pi/2))\n",
    "opti.subject_to(opti.bounded(-np.pi/2, q5, np.pi/2))\n",
    "# Set physiological joint limits (no knee hyperflexion).\n",
    "opti.subject_to(opti.bounded(-np.pi, q1 - q2, 0))\n",
    "opti.subject_to(opti.bounded(-np.pi, q5 - q4, 0))"
   ]
  },
  {
   "cell_type": "markdown",
   "metadata": {},
   "source": [
    "### Initial guess"
   ]
  },
  {
   "cell_type": "code",
   "execution_count": null,
   "metadata": {},
   "outputs": [],
   "source": [
    "# Set naive initial guess for the segment angles\n",
    "# (linearly spaced vector between lower and upper bounds).\n",
    "# When no initial guess is provided, numerical zero is assumed.\n",
    "q1_init = -np.pi/8\n",
    "q1_final = -np.pi/6   \n",
    "q2_init = np.pi/6\n",
    "q2_final = -np.pi/8\n",
    "q3_init = -np.pi/6\n",
    "q3_final = 0\n",
    "q4_init = -np.pi/8\n",
    "q4_final = np.pi/6\n",
    "q5_init = -np.pi/6\n",
    "q5_final = -np.pi/8\n",
    "q1guess = np.linspace(q1_init, q1_final, N+1)\n",
    "q2guess = np.linspace(q2_init, q2_final, N+1)\n",
    "q3guess = np.linspace(q3_init, q3_final, N+1)\n",
    "q4guess = np.linspace(q4_init, q4_final, N+1)\n",
    "q5guess = np.linspace(q5_init, q5_final, N+1)\n",
    "opti.set_initial(q1, q1guess)\n",
    "opti.set_initial(q2, q2guess)\n",
    "opti.set_initial(q3, q3guess)\n",
    "opti.set_initial(q4, q4guess)\n",
    "opti.set_initial(q5, q5guess)"
   ]
  },
  {
   "cell_type": "markdown",
   "metadata": {},
   "source": [
    "### Initialize the cost function (J)."
   ]
  },
  {
   "cell_type": "code",
   "execution_count": null,
   "metadata": {},
   "outputs": [],
   "source": [
    "J = 0"
   ]
  },
  {
   "cell_type": "markdown",
   "metadata": {},
   "source": [
    "### Loop over mesh points."
   ]
  },
  {
   "cell_type": "code",
   "execution_count": null,
   "metadata": {},
   "outputs": [],
   "source": [
    "# Loop over mesh points.\n",
    "for k in range(N):\n",
    "    # States at mesh point k.\n",
    "    # Segment angles.\n",
    "    q1k = q1[:,k]     \n",
    "    q2k = q2[:,k]     \n",
    "    q3k = q3[:,k]\n",
    "    q4k = q4[:,k]     \n",
    "    q5k = q5[:,k]\n",
    "    # Segment angular velocities.\n",
    "    dq1k = dq1[:,k]   \n",
    "    dq2k = dq2[:,k]   \n",
    "    dq3k = dq3[:,k]\n",
    "    dq4k = dq4[:,k]   \n",
    "    dq5k = dq5[:,k]\n",
    "    \n",
    "    # States at mesh point k+1.\n",
    "    # Segment angles.\n",
    "    q1k_plus = q1[:,k+1]     \n",
    "    q2k_plus = q2[:,k+1]     \n",
    "    q3k_plus = q3[:,k+1]     \n",
    "    q4k_plus = q4[:,k+1]     \n",
    "    q5k_plus = q5[:,k+1]\n",
    "    # Segment angular velocities.\n",
    "    dq1k_plus = dq1[:,k+1]   \n",
    "    dq2k_plus = dq2[:,k+1]   \n",
    "    dq3k_plus = dq3[:,k+1]   \n",
    "    dq4k_plus = dq4[:,k+1]   \n",
    "    dq5k_plus = dq5[:,k+1]\n",
    "    \n",
    "    # Controls at mesh point k+1.\n",
    "    # (Remember that controls are defined from k=2, so 'mesh point k+1 for\n",
    "    # the states correspond to mesh point k for the controls', which is why\n",
    "    # we use k and not k+1 here).\n",
    "    # Segment angular accelerations.\n",
    "    ddq1k_plus = ddq1[:,k] \n",
    "    ddq2k_plus = ddq2[:,k] \n",
    "    ddq3k_plus = ddq3[:,k] \n",
    "    ddq4k_plus = ddq4[:,k] \n",
    "    ddq5k_plus = ddq5[:,k]\n",
    "    # Joint torques.\n",
    "    T1k_plus = T1[:,k]     \n",
    "    T2k_plus = T2[:,k]     \n",
    "    T3k_plus = T3[:,k]     \n",
    "    T4k_plus = T4[:,k]     \n",
    "    T5k_plus = T5[:,k]\n",
    "       \n",
    "    # Stack states at mesh points k and k+1.\n",
    "    Xk = ca.vertcat(q1k, q2k, q3k, q4k, q5k,   \n",
    "          dq1k, dq2k, dq3k, dq4k, dq5k)\n",
    "    Xk_plus = ca.vertcat(q1k_plus, q2k_plus, q3k_plus, q4k_plus, q5k_plus,\n",
    "               dq1k_plus, dq2k_plus, dq3k_plus, dq4k_plus, dq5k_plus)\n",
    "    \n",
    "    # Stack state derivatives.\n",
    "    Uk_plus = ca.vertcat(dq1k_plus, dq2k_plus, dq3k_plus, dq4k_plus, dq5k_plus, \n",
    "          ddq1k_plus, ddq2k_plus, ddq3k_plus, ddq4k_plus, ddq5k_plus)\n",
    "    \n",
    "    \n",
    "    # Implicit dynamic constraint errors.\n",
    "    # The function eulerIntegrator returns the error in the dynamics.\n",
    "    # We impose this error to be null (i.e., dqdt* = dqdt and\n",
    "    # ddqdt* = ddqdt, where * indicates the approximated state derivatives\n",
    "    # computed based on the integration scheme and no * represents the\n",
    "    # actual states or controls. Both should match - collocation).\n",
    "    # The integration is performed using a backward Euler scheme\n",
    "    # (see eulerIntegrator.m)\n",
    "    opti.subject_to(eulerIntegrator(Xk, Xk_plus, Uk_plus, dt) == 0)\n",
    "       \n",
    "    # Model constraint errors.\n",
    "    # We impose this error to be null (i.e., f(q, dq, ddq, T) = 0).\n",
    "    modelConstraintErrors = f_getModelConstraintErrors(\n",
    "        q1k_plus,q2k_plus,q3k_plus,q4k_plus,q5k_plus,\n",
    "        dq1k_plus,dq2k_plus,dq3k_plus,dq4k_plus,dq5k_plus,\n",
    "        ddq1k_plus,ddq2k_plus,ddq3k_plus,ddq4k_plus,ddq5k_plus,\n",
    "        T1k_plus,T2k_plus,T3k_plus,T4k_plus,T5k_plus)\n",
    "    opti.subject_to(ca.vertcat(*modelConstraintErrors) == 0)\n",
    "    \n",
    "    # Cost function.\n",
    "    # Minimize the weighted sum of the squared joint torques.\n",
    "    J = J + (w1*T1k_plus**2 + w2*T2k_plus**2 + w3*T3k_plus**2 + \n",
    "             w4*T4k_plus**2 + w5*T5k_plus**2)*dt\n",
    "    # Penalize (with low weight) segment angular accelerations for\n",
    "    # regularization purposes.\n",
    "    J = J + 1e-1*(ddq1k_plus**2 + ddq2k_plus**2 + ddq3k_plus**2 + \n",
    "                  ddq4k_plus**2 + ddq5k_plus**2)*dt\n",
    "    \n",
    "    # Impose the swing foot to be off the ground.\n",
    "    # getJointPositions returns 'joint' positions in the x-y plane in the\n",
    "    # following order: stance knee (X-Y), pelvis (X-Y), head (X-Y), \n",
    "    # swing knee (X-Y), and swing foot (X-Y).\n",
    "    jointPositions = getJointPositions(l1,l2,l3,l4,l5,q1k,q2k,q3k,q4k,q5k)\n",
    "    opti.subject_to(jointPositions[9] > -1e-4)\n",
    "    \n",
    "    # We pre-defined a few walking styles you can play with. The added\n",
    "    # constraints should be self-explanatory. Feel free to try to generate\n",
    "    # other fancy walking patterns!\n",
    "    if selected_gait == 'no_stance_ankle_torque':\n",
    "        opti.subject_to(T1k_plus  == 0.0)         \n",
    "    elif selected_gait == 'no_stance_knee_torque':\n",
    "        opti.subject_to(T2k_plus  == 0.0)  \n",
    "    elif selected_gait ==  'no_hip_torques':\n",
    "        opti.subject_to(T3k_plus  == 0.0)\n",
    "        opti.subject_to(T4k_plus  == 0.0)     \n",
    "    elif selected_gait ==  'only_stance_ankle_torque':\n",
    "        opti.subject_to(T2k_plus  == 0.0)\n",
    "        opti.subject_to(T3k_plus  == 0.0)\n",
    "        opti.subject_to(T4k_plus  == 0.0)\n",
    "        opti.subject_to(T5k_plus  == 0.0)        \n",
    "    elif selected_gait ==  'only_knee_torques':\n",
    "        opti.subject_to(T1k_plus  == 0.0)\n",
    "        opti.subject_to(T3k_plus  == 0.0)\n",
    "        opti.subject_to(T4k_plus  == 0.0)\n",
    "    elif selected_gait ==  'only_hip_torques':\n",
    "        opti.subject_to(T1k_plus  == 0.0)\n",
    "        opti.subject_to(T2k_plus  == 0.0)\n",
    "        opti.subject_to(T5k_plus  == 0.0)    \n",
    "    elif selected_gait ==  'crouch_gait':\n",
    "        opti.subject_to(jointPositions[3]<0.6) # Pelvis below 0.6 m            \n",
    "    elif selected_gait ==  'swing_foot_circles_around_stance_foot':\n",
    "        opti.subject_to(            \n",
    "            jointPositions[8]**2 + jointPositions[9]**2 > 0.45**2)"
   ]
  },
  {
   "cell_type": "markdown",
   "metadata": {},
   "source": [
    "### Impose periodic gait\n",
    "\"...we will assume that the model transitions directly from single stance on one foot to single stance on the other: as soon as the leading foot strikes the ground, the trailing foot leaves the ground. This transition is known as a heel-strike map...There are two parts to the heel-strike map. The first is an impulsive collision, which changes the segment angular velocities throughout the model, but does not affect the segment angles. \n",
    "The second part of the map swaps the swing and stance legs. The leg swap is done to enforce a symmetry in the solution: we want the step taken by the left leg to be identical to that for the right, and for both to be periodic.\" (Appendix F3, Heel-Strike Dynamics, p899, Kelly 2017).\n",
    "The angular momentum is conserved around the collision point for all joints giving five constraint equations."
   ]
  },
  {
   "cell_type": "code",
   "execution_count": null,
   "metadata": {},
   "outputs": [],
   "source": [
    "q1_min = q1[:,-1]     \n",
    "q2_min = q2[:,-1] \n",
    "q3_min = q3[:,-1]     \n",
    "q4_min = q4[:,-1]     \n",
    "q5_min = q5[:,-1]\n",
    "q1_plus = q1[:,0]      \n",
    "q2_plus = q2[:,0] \n",
    "q3_plus = q3[:,0]      \n",
    "q4_plus = q4[:,0]      \n",
    "q5_plus = q5[:,0]\n",
    "dq1_min = dq1[:,-1]   \n",
    "dq2_min = dq2[:,-1] \n",
    "dq3_min = dq3[:,-1]   \n",
    "dq4_min = dq4[:,-1]   \n",
    "dq5_min = dq5[:,-1]\n",
    "dq1_plus = dq1[:,0]    \n",
    "dq2_plus = dq2[:,0] \n",
    "dq3_plus = dq3[:,0]    \n",
    "dq4_plus = dq4[:,0]    \n",
    "dq5_plus = dq5[:,0]\n",
    "heelStrike_error = getHeelStrikeError(\n",
    "    I1,I2,I3,I4,I5,\n",
    "    d1,d2,d3,d4,d5,\n",
    "    dq1_min,dq2_min,dq3_min,dq4_min,dq5_min,\n",
    "    dq1_plus,dq2_plus,dq3_plus,dq4_plus,dq5_plus,\n",
    "    l1,l2,l4,l5,\n",
    "    m1,m2,m3,m4,m5,\n",
    "    q1_min,q2_min,q3_min,q4_min,q5_min,\n",
    "    q1_plus,q2_plus,q3_plus,q4_plus,q5_plus)\n",
    "opti.subject_to(ca.vertcat(*heelStrike_error) == 0)"
   ]
  },
  {
   "cell_type": "markdown",
   "metadata": {},
   "source": [
    "### Impose gait speed\n",
    "\"...what we have chosen here is to prescribe the duration of a single step (strideTime) and then have an equality constraint on the stride length (strideLength)...\""
   ]
  },
  {
   "cell_type": "code",
   "execution_count": null,
   "metadata": {},
   "outputs": [],
   "source": [
    "jointPositionsEnd = getJointPositions(l1,l2,l3,l4,l5,\n",
    "    q1[:,-1],q2[:,-1],q3[:,-1],q4[:,-1],q5[:,-1])\n",
    "# jointPositionsEnd[8] and [9] corresponds to the swing foot position (X and Y)\n",
    "# at the end of the stride.\n",
    "opti.subject_to(jointPositionsEnd[8] == strideLength)\n",
    "opti.subject_to(jointPositionsEnd[9] == 0)"
   ]
  },
  {
   "cell_type": "markdown",
   "metadata": {},
   "source": [
    "### Impose the simulation to start at 'toe-off' and end at 'heel-strike'\n",
    "Impose the simulation to start at 'toe-off' and end at 'heel-strike', by imposing the swing foot to have a positive y-velocity at 'toe-off' and a negative y-velocity at 'heel strike'."
   ]
  },
  {
   "cell_type": "code",
   "execution_count": null,
   "metadata": {},
   "outputs": [],
   "source": [
    "jointVelocitiesInit = getJointVelocities(\n",
    "    dq1[:,0],dq2[:,0],dq3[:,0],dq4[:,0],dq5[:,0],\n",
    "    l1,l2,l3,l4,l5,\n",
    "    q1[:,0], q2[:,0],q3[:,0],q4[:,0],q5[:,0])\n",
    "jointVelocitiesEnd = getJointVelocities(\n",
    "    dq1[:,-1],dq2[:,-1],dq3[:,-1],dq4[:,-1],dq5[:,-1],\n",
    "    l1,l2,l3,l4,l5,\n",
    "    q1[:,-1],q2[:,-1],q3[:,-1],q4[:,-1],q5[:,-1])\n",
    "opti.subject_to(jointVelocitiesInit[9] > 0)\n",
    "opti.subject_to(jointVelocitiesEnd[9] < 0)"
   ]
  },
  {
   "cell_type": "markdown",
   "metadata": {},
   "source": [
    "### Set cost function, create an NLP solver, and solve the NLP."
   ]
  },
  {
   "cell_type": "code",
   "execution_count": null,
   "metadata": {
    "id": "FOdkDhb6ga6N"
   },
   "outputs": [],
   "source": [
    "# Define cost function.\n",
    "opti.minimize(J)\n",
    "\n",
    "# Create an NLP solver.\n",
    "opti.solver('ipopt')\n",
    "\n",
    "# Solve the NLP.\n",
    "sol = opti.solve()"
   ]
  },
  {
   "cell_type": "markdown",
   "metadata": {
    "id": "n5L3Z5YVrZ2R"
   },
   "source": [
    "### Extract the optimal design variables."
   ]
  },
  {
   "cell_type": "code",
   "execution_count": null,
   "metadata": {
    "colab": {
     "base_uri": "https://localhost:8080/"
    },
    "id": "wMx1U-q1bLxy",
    "outputId": "ea692222-e982-4320-d485-c5086821cf7e"
   },
   "outputs": [],
   "source": [
    "# Optimal segment angles.\n",
    "q1_opt = sol.value(q1)\n",
    "q2_opt = sol.value(q2)\n",
    "q3_opt = sol.value(q3)\n",
    "q4_opt = sol.value(q4)\n",
    "q5_opt = sol.value(q5)\n",
    "# Optimal segment angular velocities.\n",
    "dq1_opt = sol.value(dq1)\n",
    "dq2_opt = sol.value(dq2)\n",
    "dq3_opt = sol.value(dq3)\n",
    "dq4_opt = sol.value(dq4)\n",
    "dq5_opt = sol.value(dq5)\n",
    "# Optimal joint accelerations.\n",
    "ddq1_opt = sol.value(ddq1)\n",
    "ddq2_opt = sol.value(ddq2)\n",
    "ddq3_opt = sol.value(ddq3)\n",
    "ddq4_opt = sol.value(ddq4)\n",
    "ddq5_opt = sol.value(ddq5)\n",
    "# Optimal joint torques.\n",
    "T1_opt = sol.value(T1)\n",
    "T2_opt = sol.value(T2)\n",
    "T3_opt = sol.value(T3)\n",
    "T4_opt = sol.value(T4)\n",
    "T5_opt = sol.value(T5)"
   ]
  },
  {
   "cell_type": "markdown",
   "metadata": {},
   "source": [
    "### Generate an animation\n",
    "For this to work, you might need to install FFmpeg: https://www.ffmpeg.org/ and add it to your environment path."
   ]
  },
  {
   "cell_type": "code",
   "execution_count": null,
   "metadata": {},
   "outputs": [],
   "source": [
    "if generate_animation:\n",
    "    jointPositions_opt = getJointPositions(\n",
    "        l1,l2,l3,l4,l5,\n",
    "        q1_opt,q2_opt,q3_opt,q4_opt,q5_opt)\n",
    "    from IPython.display import HTML\n",
    "    animation = generateAnimation(jointPositions_opt, dt, strideLength)    \n",
    "    plt.close()\n",
    "    HTML(animation.to_html5_video())"
   ]
  },
  {
   "cell_type": "markdown",
   "metadata": {},
   "source": [
    "### Plots"
   ]
  },
  {
   "cell_type": "code",
   "execution_count": null,
   "metadata": {
    "colab": {
     "base_uri": "https://localhost:8080/"
    },
    "id": "9WAwCAMzjpFf",
    "outputId": "d1993a46-efe5-4bbd-904b-28b83e24f444"
   },
   "outputs": [],
   "source": [
    "if generate_plots:\n",
    "    # Joint torques.\n",
    "    fig = plt.figure()\n",
    "    ax = plt.gca()\n",
    "    lineObjects = ax.plot(time[:-1],T1_opt,\n",
    "                          time[:-1],T2_opt,\n",
    "                          time[:-1],T3_opt,\n",
    "                          time[:-1],T4_opt,\n",
    "                          time[:-1],T5_opt)\n",
    "    plt.xlabel('Time [s]')\n",
    "    plt.ylabel('Joint torques [Nm]')\n",
    "    plt.legend(iter(lineObjects), ('stance ankle','stance knee','stance hip',\n",
    "                                    'swing hip','swing knee'))\n",
    "    plt.show()\n",
    "    \n",
    "    # Relative segment angles.\n",
    "    relJointPos = getRelativeJointAngles(\n",
    "        q1_opt,q2_opt,q3_opt,q4_opt,q5_opt)\n",
    "    fig = plt.figure()\n",
    "    ax = plt.gca()\n",
    "    lineObjects = ax.plot(time,180/np.pi*relJointPos[0],\n",
    "                          time,180/np.pi*relJointPos[1],\n",
    "                          time,180/np.pi*relJointPos[2],\n",
    "                          time,180/np.pi*relJointPos[3],\n",
    "                          time,180/np.pi*relJointPos[4])\n",
    "    plt.xlabel('Time [s]')\n",
    "    plt.ylabel('Relative joint angles [°]')\n",
    "    plt.legend(iter(lineObjects), ('stance ankle','stance knee','stance hip',\n",
    "                                    'swing hip','swing knee'))\n",
    "    plt.show()\n",
    "    \n",
    "    # Relative segment angular velocities.\n",
    "    relJointVel = getRelativeJointAngularVelocities(\n",
    "        dq1_opt,dq2_opt,dq3_opt,dq4_opt,dq5_opt)\n",
    "    fig = plt.figure()\n",
    "    ax = plt.gca()\n",
    "    lineObjects = ax.plot(time,180/np.pi*relJointVel[0],\n",
    "                          time,180/np.pi*relJointVel[1],\n",
    "                          time,180/np.pi*relJointVel[2],\n",
    "                          time,180/np.pi*relJointVel[3],\n",
    "                          time,180/np.pi*relJointVel[4])\n",
    "    plt.xlabel('Time [s]')\n",
    "    plt.ylabel('Relative joint angular velocities [°/s]')\n",
    "    plt.legend(iter(lineObjects), ('stance ankle','stance knee','stance hip',\n",
    "                                    'swing hip','swing knee'))\n",
    "    plt.show()"
   ]
  },
  {
   "cell_type": "markdown",
   "metadata": {
    "id": "KVfcqKtQbSv_"
   },
   "source": [
    "### Maximum torque"
   ]
  },
  {
   "cell_type": "code",
   "execution_count": null,
   "metadata": {},
   "outputs": [],
   "source": [
    "max_torque=np.max(np.abs(np.array([T1_opt, T2_opt, T3_opt, T4_opt, T5_opt])))\n",
    "\n",
    "print('The maximum torque is {} Nm. Try to make it lower by playing with the \\\n",
    "cost term weights.'.format(max_torque))"
   ]
  },
  {
   "cell_type": "markdown",
   "metadata": {},
   "source": [
    "### Challenge\n",
    "Try to minimize the maximum torque by adjusting the weight of the cost terms (i.e., w1, w2, w3, w4, w5). You can adjust them at the top of the script (lines 46-50)."
   ]
  },
  {
   "cell_type": "code",
   "execution_count": null,
   "metadata": {
    "colab": {
     "base_uri": "https://localhost:8080/",
     "height": 761
    },
    "id": "oNASdyyiO65I",
    "outputId": "9d95d3d3-4a52-4af4-da9e-38a91f5dbe65"
   },
   "outputs": [],
   "source": [
    "# Send data to spreadsheet.\n",
    "if challenge:\n",
    "    gc = pygsheets.authorize(service_file='google_tokens.json')\n",
    "    sh = gc.open('ISB-OptimalControl-Scores')\n",
    "    wks = sh[0]\n",
    "    name = input(\"Enter your name: \")\n",
    "    wks.append_table(values=[name, max_torque, w1, w2, w3, w4, w5])"
   ]
  }
 ],
 "metadata": {
  "accelerator": "GPU",
  "colab": {
   "collapsed_sections": [
    "PBzVrpDXG2s5",
    "GsH_4sdoQPgB",
    "qRWUKVuuBqqT"
   ],
   "include_colab_link": true,
   "name": "Tutorial: Pose Estimation for Biomechanics (Mobilize & Restore Centers @ Stanford)",
   "provenance": [],
   "toc_visible": true
  },
  "kernelspec": {
   "display_name": "Python 3",
   "language": "python",
   "name": "python3"
  },
  "language_info": {
   "codemirror_mode": {
    "name": "ipython",
    "version": 3
   },
   "file_extension": ".py",
   "mimetype": "text/x-python",
   "name": "python",
   "nbconvert_exporter": "python",
   "pygments_lexer": "ipython3",
   "version": "3.9.5"
  }
 },
 "nbformat": 4,
 "nbformat_minor": 1
}
